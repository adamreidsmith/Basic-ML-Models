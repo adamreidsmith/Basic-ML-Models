{
 "cells": [
  {
   "cell_type": "markdown",
   "id": "b232853c",
   "metadata": {},
   "source": [
    "In this project, we will use a logistic regression model to predict whether an individual's annual income exceeds $50,000 given attributes about their edcuational and ethnic background, working class, and a few other features provided in [this](https://archive.ics.uci.edu/ml/datasets/adult) dataset from the UCI Machine Learning Repository."
   ]
  },
  {
   "cell_type": "code",
   "execution_count": 80,
   "id": "bf0ca8ad",
   "metadata": {},
   "outputs": [],
   "source": [
    "import pandas as pd\n",
    "import numpy as np\n",
    "import seaborn as sns\n",
    "import matplotlib.pyplot as plt"
   ]
  },
  {
   "cell_type": "markdown",
   "id": "ff43afbe",
   "metadata": {},
   "source": [
    "First, we import the data."
   ]
  },
  {
   "cell_type": "code",
   "execution_count": 81,
   "id": "edc92021",
   "metadata": {},
   "outputs": [
    {
     "data": {
      "text/html": [
       "<div>\n",
       "<style scoped>\n",
       "    .dataframe tbody tr th:only-of-type {\n",
       "        vertical-align: middle;\n",
       "    }\n",
       "\n",
       "    .dataframe tbody tr th {\n",
       "        vertical-align: top;\n",
       "    }\n",
       "\n",
       "    .dataframe thead th {\n",
       "        text-align: right;\n",
       "    }\n",
       "</style>\n",
       "<table border=\"1\" class=\"dataframe\">\n",
       "  <thead>\n",
       "    <tr style=\"text-align: right;\">\n",
       "      <th></th>\n",
       "      <th>age</th>\n",
       "      <th>workclass</th>\n",
       "      <th>fnlwgt</th>\n",
       "      <th>education</th>\n",
       "      <th>education-num</th>\n",
       "      <th>marital-status</th>\n",
       "      <th>occupation</th>\n",
       "      <th>relationship</th>\n",
       "      <th>race</th>\n",
       "      <th>sex</th>\n",
       "      <th>capital-gain</th>\n",
       "      <th>capital-loss</th>\n",
       "      <th>hours-per-week</th>\n",
       "      <th>native-country</th>\n",
       "      <th>income</th>\n",
       "    </tr>\n",
       "  </thead>\n",
       "  <tbody>\n",
       "    <tr>\n",
       "      <th>0</th>\n",
       "      <td>39</td>\n",
       "      <td>State-gov</td>\n",
       "      <td>77516</td>\n",
       "      <td>Bachelors</td>\n",
       "      <td>13</td>\n",
       "      <td>Never-married</td>\n",
       "      <td>Adm-clerical</td>\n",
       "      <td>Not-in-family</td>\n",
       "      <td>White</td>\n",
       "      <td>Male</td>\n",
       "      <td>2174</td>\n",
       "      <td>0</td>\n",
       "      <td>40</td>\n",
       "      <td>United-States</td>\n",
       "      <td>&lt;=50K</td>\n",
       "    </tr>\n",
       "    <tr>\n",
       "      <th>1</th>\n",
       "      <td>50</td>\n",
       "      <td>Self-emp-not-inc</td>\n",
       "      <td>83311</td>\n",
       "      <td>Bachelors</td>\n",
       "      <td>13</td>\n",
       "      <td>Married-civ-spouse</td>\n",
       "      <td>Exec-managerial</td>\n",
       "      <td>Husband</td>\n",
       "      <td>White</td>\n",
       "      <td>Male</td>\n",
       "      <td>0</td>\n",
       "      <td>0</td>\n",
       "      <td>13</td>\n",
       "      <td>United-States</td>\n",
       "      <td>&lt;=50K</td>\n",
       "    </tr>\n",
       "    <tr>\n",
       "      <th>2</th>\n",
       "      <td>38</td>\n",
       "      <td>Private</td>\n",
       "      <td>215646</td>\n",
       "      <td>HS-grad</td>\n",
       "      <td>9</td>\n",
       "      <td>Divorced</td>\n",
       "      <td>Handlers-cleaners</td>\n",
       "      <td>Not-in-family</td>\n",
       "      <td>White</td>\n",
       "      <td>Male</td>\n",
       "      <td>0</td>\n",
       "      <td>0</td>\n",
       "      <td>40</td>\n",
       "      <td>United-States</td>\n",
       "      <td>&lt;=50K</td>\n",
       "    </tr>\n",
       "    <tr>\n",
       "      <th>3</th>\n",
       "      <td>53</td>\n",
       "      <td>Private</td>\n",
       "      <td>234721</td>\n",
       "      <td>11th</td>\n",
       "      <td>7</td>\n",
       "      <td>Married-civ-spouse</td>\n",
       "      <td>Handlers-cleaners</td>\n",
       "      <td>Husband</td>\n",
       "      <td>Black</td>\n",
       "      <td>Male</td>\n",
       "      <td>0</td>\n",
       "      <td>0</td>\n",
       "      <td>40</td>\n",
       "      <td>United-States</td>\n",
       "      <td>&lt;=50K</td>\n",
       "    </tr>\n",
       "    <tr>\n",
       "      <th>4</th>\n",
       "      <td>28</td>\n",
       "      <td>Private</td>\n",
       "      <td>338409</td>\n",
       "      <td>Bachelors</td>\n",
       "      <td>13</td>\n",
       "      <td>Married-civ-spouse</td>\n",
       "      <td>Prof-specialty</td>\n",
       "      <td>Wife</td>\n",
       "      <td>Black</td>\n",
       "      <td>Female</td>\n",
       "      <td>0</td>\n",
       "      <td>0</td>\n",
       "      <td>40</td>\n",
       "      <td>Cuba</td>\n",
       "      <td>&lt;=50K</td>\n",
       "    </tr>\n",
       "  </tbody>\n",
       "</table>\n",
       "</div>"
      ],
      "text/plain": [
       "   age         workclass  fnlwgt  education  education-num  \\\n",
       "0   39         State-gov   77516  Bachelors             13   \n",
       "1   50  Self-emp-not-inc   83311  Bachelors             13   \n",
       "2   38           Private  215646    HS-grad              9   \n",
       "3   53           Private  234721       11th              7   \n",
       "4   28           Private  338409  Bachelors             13   \n",
       "\n",
       "       marital-status         occupation   relationship   race     sex  \\\n",
       "0       Never-married       Adm-clerical  Not-in-family  White    Male   \n",
       "1  Married-civ-spouse    Exec-managerial        Husband  White    Male   \n",
       "2            Divorced  Handlers-cleaners  Not-in-family  White    Male   \n",
       "3  Married-civ-spouse  Handlers-cleaners        Husband  Black    Male   \n",
       "4  Married-civ-spouse     Prof-specialty           Wife  Black  Female   \n",
       "\n",
       "   capital-gain  capital-loss  hours-per-week native-country income  \n",
       "0          2174             0              40  United-States  <=50K  \n",
       "1             0             0              13  United-States  <=50K  \n",
       "2             0             0              40  United-States  <=50K  \n",
       "3             0             0              40  United-States  <=50K  \n",
       "4             0             0              40           Cuba  <=50K  "
      ]
     },
     "execution_count": 81,
     "metadata": {},
     "output_type": "execute_result"
    }
   ],
   "source": [
    "cols = ['age', 'workclass', 'fnlwgt', 'education', 'education-num', \\\n",
    "        'marital-status', 'occupation', 'relationship', 'race', 'sex', \\\n",
    "        'capital-gain', 'capital-loss', 'hours-per-week', 'native-country', \\\n",
    "        'income']\n",
    "df_orig = pd.read_csv('adult.data', names=cols, index_col=False, sep=', ', engine='python')\n",
    "df = df_orig.copy()\n",
    "df.head()"
   ]
  },
  {
   "cell_type": "markdown",
   "id": "20732321",
   "metadata": {},
   "source": [
    "It is worth noting the missing values in some of the variables, denoted by a '?'."
   ]
  },
  {
   "cell_type": "code",
   "execution_count": 82,
   "id": "38466d74",
   "metadata": {},
   "outputs": [
    {
     "name": "stdout",
     "output_type": "stream",
     "text": [
      "Number of missing values for each variable:\n",
      "   age : 0\n",
      "   workclass : 1836\n",
      "   fnlwgt : 0\n",
      "   education : 0\n",
      "   education-num : 0\n",
      "   marital-status : 0\n",
      "   occupation : 1843\n",
      "   relationship : 0\n",
      "   race : 0\n",
      "   sex : 0\n",
      "   capital-gain : 0\n",
      "   capital-loss : 0\n",
      "   hours-per-week : 0\n",
      "   native-country : 583\n",
      "   income : 0\n"
     ]
    }
   ],
   "source": [
    "print('Number of missing values for each variable:')\n",
    "for col in df:\n",
    "    vc = df[col].value_counts()\n",
    "    num_missing = 0\n",
    "    if '?' in vc.index:\n",
    "        num_missing = vc['?']\n",
    "    print('  ', col, ':', num_missing)"
   ]
  },
  {
   "cell_type": "markdown",
   "id": "50b11831",
   "metadata": {},
   "source": [
    "There are a number of ways of dealing with this issue. The simplest method is to drop all observations with missing values. However, this is not ideal as we are losing valuable data in the other variables associated with the dropped observations. For continuous variables, a common technique is to replace the missing values with a logical/unimpeding guess. Depending on the situation, this is usually either a zero or the mean or median of the rest of the values for that variable. A more sophisticated way of filling the missing values is to employ a technique called KNN imputation. In this technique, the observations with no missing values are used as training data to train a k-nearest neighbours algorithm, which predicts the missing values. This can be easily implemented using the `sklearn`'s `impute.KNNImputer` class. In our case, we will keep the missing values as their own unknown/other category."
   ]
  },
  {
   "cell_type": "markdown",
   "id": "20dba4ec",
   "metadata": {},
   "source": [
    "Some of the variables may require some explanation. `fnlwgt` is the final weight, which is the number of people the census believes this entry represents. For simplicity of analysis, and since it is more a quality of the population than the individual, this variable will be dropped. The variable `education-num` is an ordinal encoding of the `education` variable. The ordinal encoding will be more useful for our classification algorithm, so the education column will be removed. `relationship` represents the respondents' role in the family, which can be assessed from gender and marital status, so it, too, will be discarded. `capital-gain` and `capital-loss` represent income from sources other than wage or salary, such as investment income."
   ]
  },
  {
   "cell_type": "code",
   "execution_count": 83,
   "id": "1468e923",
   "metadata": {},
   "outputs": [],
   "source": [
    "df = df.drop(['education', 'relationship', 'fnlwgt'], axis=1)"
   ]
  },
  {
   "cell_type": "markdown",
   "id": "a35550a7",
   "metadata": {},
   "source": [
    "The variable `workclass` stands for the industry in which the responding unit is employed."
   ]
  },
  {
   "cell_type": "code",
   "execution_count": 84,
   "id": "8b98fa51",
   "metadata": {},
   "outputs": [
    {
     "data": {
      "text/plain": [
       "Private             22696\n",
       "Self-emp-not-inc     2541\n",
       "Local-gov            2093\n",
       "?                    1836\n",
       "State-gov            1298\n",
       "Self-emp-inc         1116\n",
       "Federal-gov           960\n",
       "Without-pay            14\n",
       "Never-worked            7\n",
       "Name: workclass, dtype: int64"
      ]
     },
     "execution_count": 84,
     "metadata": {},
     "output_type": "execute_result"
    }
   ],
   "source": [
    "df.workclass.value_counts()"
   ]
  },
  {
   "cell_type": "markdown",
   "id": "b2b6ccf0",
   "metadata": {},
   "source": [
    "There are two small classes: `Without-pay` and `Never-worked`. I will combine these with the unknown class, `?`, in a category called `Other`.  To simplify the analysis, we can group those who work for the government into a `Government` class, and both self-employed classes, incorporated and not incorporated, into a single one."
   ]
  },
  {
   "cell_type": "code",
   "execution_count": 85,
   "id": "6cc67159",
   "metadata": {},
   "outputs": [
    {
     "data": {
      "text/plain": [
       "Private          22696\n",
       "Government        4351\n",
       "Self-employed     3657\n",
       "Other             1857\n",
       "Name: workclass, dtype: int64"
      ]
     },
     "execution_count": 85,
     "metadata": {},
     "output_type": "execute_result"
    }
   ],
   "source": [
    "df.workclass = df.workclass.map({'?':'Other', 'Without-pay':'Other', 'Never-worked':'Other',\\\n",
    "                                 'Local-gov':'Government', 'State-gov':'Government', 'Federal-gov':'Government',\\\n",
    "                                 'Self-emp-not-inc':'Self-employed', 'Self-emp-inc':'Self-employed',\\\n",
    "                                 'Private':'Private'})\n",
    "df.workclass.value_counts()"
   ]
  },
  {
   "cell_type": "markdown",
   "id": "09d77256",
   "metadata": {},
   "source": [
    "To investigate the distribution of the `workclass` variable and its relationship with our target variable `income`, we can plot a bar plot of the `workclass` variable, coloured by `income`. "
   ]
  },
  {
   "cell_type": "code",
   "execution_count": 86,
   "id": "33908c02",
   "metadata": {},
   "outputs": [
    {
     "data": {
      "image/png": "[encoded data removed]",
      "text/plain": [
       "<Figure size 720x432 with 1 Axes>"
      ]
     },
     "metadata": {
      "needs_background": "light"
     },
     "output_type": "display_data"
    }
   ],
   "source": [
    "df_plot = df.groupby(['workclass', 'income']).size().reset_index().pivot(columns='income', \\\n",
    "                                                                         index='workclass', values=0)\n",
    "ax = df_plot.plot(kind='bar', stacked=True, figsize=(10,6))\n",
    "plt.title('Income by Industry')\n",
    "plt.ylabel('count')\n",
    "\n",
    "annotations = df_plot.divide(df_plot.sum(axis=1), axis='index')\n",
    "annotations = np.array(100*annotations).round().astype(int)\n",
    "annotations = annotations.flatten(order='F')\n",
    "for i, p in enumerate(ax.patches):\n",
    "    ax.annotate(str(annotations[i]) + '%', (p.get_x()+.18, p.get_y()+p.get_height()//2-200))"
   ]
  },
  {
   "cell_type": "markdown",
   "id": "bb17cbf6",
   "metadata": {},
   "source": [
    "Those who are self employed have the greatest tendency of making more than $50,000 annually, while those with other or unknown employment have the lowest tendency."
   ]
  },
  {
   "cell_type": "markdown",
   "id": "f5d1c8cd",
   "metadata": {},
   "source": [
    "We can create a similar plot for the `education-num` variable."
   ]
  },
  {
   "cell_type": "code",
   "execution_count": 87,
   "id": "406b5ad3",
   "metadata": {},
   "outputs": [
    {
     "data": {
      "image/png": "[encoded data removed]",
      "text/plain": [
       "<Figure size 864x720 with 1 Axes>"
      ]
     },
     "metadata": {
      "needs_background": "light"
     },
     "output_type": "display_data"
    }
   ],
   "source": [
    "df_plot = df.groupby(['education-num', 'income']).size().reset_index().pivot(columns='income', \\\n",
    "                                                            index='education-num', values=0).fillna(0)\n",
    "ax = df_plot.plot(kind='bar', stacked=True, figsize=(12,10))\n",
    "plt.title('Income by Years of Education')\n",
    "plt.ylabel('Count')\n",
    "\n",
    "annotations = df_plot.divide(df_plot.sum(axis=1), axis='index')\n",
    "annotations = np.array(100*annotations).round().astype(int)\n",
    "annotations = annotations.flatten(order='F')\n",
    "for i, p in enumerate(ax.patches):\n",
    "    if annotations[i] == 0:\n",
    "        continue\n",
    "    x = p.get_x()\n",
    "    y = max(p.get_y()+p.get_height()//2-80, 60)\n",
    "    if i >= len(annotations)//2:\n",
    "        y = max(y, 350)\n",
    "        \n",
    "    ax.annotate(str(annotations[i]) + '%', (x, y))"
   ]
  },
  {
   "cell_type": "markdown",
   "id": "198c8560",
   "metadata": {},
   "source": [
    "Perhaps unsuprisingly, the proportion of people making more than $\\$$50,000 annually increases with years of education. Nearly three quarters of those with doctoral degrees (16) make more than $\\$$50,000 per year, while less than 10% of those with a high school education (8) or less make over $\\$$50,000 annually."
   ]
  },
  {
   "cell_type": "code",
   "execution_count": 88,
   "id": "42262159",
   "metadata": {},
   "outputs": [
    {
     "data": {
      "text/plain": [
       "Prof-specialty       4140\n",
       "Craft-repair         4099\n",
       "Exec-managerial      4066\n",
       "Adm-clerical         3770\n",
       "Sales                3650\n",
       "Other-service        3295\n",
       "Machine-op-inspct    2002\n",
       "?                    1843\n",
       "Transport-moving     1597\n",
       "Handlers-cleaners    1370\n",
       "Farming-fishing       994\n",
       "Tech-support          928\n",
       "Protective-serv       649\n",
       "Priv-house-serv       149\n",
       "Armed-Forces            9\n",
       "Name: occupation, dtype: int64"
      ]
     },
     "execution_count": 88,
     "metadata": {},
     "output_type": "execute_result"
    }
   ],
   "source": [
    "df.occupation.value_counts()"
   ]
  },
  {
   "cell_type": "markdown",
   "id": "9568e27b",
   "metadata": {},
   "source": [
    "To simplify the `occupation` variable, I will group together the given categories into `White-collar`, `Professional`, `Sales`, `Service`, and `Blue-collar` categories.  Because of the low number of observations with the `Armed-Forces` value, I will group them with the unknowns in a category called `Other`."
   ]
  },
  {
   "cell_type": "code",
   "execution_count": 89,
   "id": "59c4c6e7",
   "metadata": {},
   "outputs": [
    {
     "data": {
      "text/plain": [
       "Blue-collar     8060\n",
       "White-collar    7836\n",
       "Service         5021\n",
       "Professional    4140\n",
       "Sales           3650\n",
       "Other           1852\n",
       "Name: occupation, dtype: int64"
      ]
     },
     "execution_count": 89,
     "metadata": {},
     "output_type": "execute_result"
    }
   ],
   "source": [
    "df.occupation = df.occupation.map({'Prof-specialty':'Professional', 'Craft-repair':'Blue-collar', \\\n",
    "                        'Exec-managerial':'White-collar', 'Adm-clerical':'White-collar', \\\n",
    "                        'Machine-op-inspect':'Blue-collar', 'Transport-moving':'Blue-collar', \\\n",
    "                        'Handlers-cleaners':'Blue-collar', 'Farming-fishing':'Blue-collar', \\\n",
    "                        'Other-service':'Service', 'Tech-support':'Service', 'Protective-serv':'Service', \\\n",
    "                        'Priv-house-serv':'Service', 'Sales':'Sales', \\\n",
    "                        '?':'Other', 'Armed-Forces':'Other'})\n",
    "df.occupation.value_counts()"
   ]
  },
  {
   "cell_type": "code",
   "execution_count": 90,
   "id": "942db2a3",
   "metadata": {},
   "outputs": [
    {
     "data": {
      "image/png": "[encoded data removed]",
      "text/plain": [
       "<Figure size 720x432 with 1 Axes>"
      ]
     },
     "metadata": {
      "needs_background": "light"
     },
     "output_type": "display_data"
    }
   ],
   "source": [
    "df_plot = df.groupby(['occupation', 'income']).size().reset_index().pivot(columns='income', index='occupation', values=0).fillna(0)\n",
    "ax = df_plot.plot(kind='bar', stacked=True, figsize=(10,6))\n",
    "plt.title('Income by Occupation')\n",
    "plt.ylabel('Count')\n",
    "\n",
    "annotations = df_plot.divide(df_plot.sum(axis=1), axis='index')\n",
    "annotations = np.array(100*annotations).round().astype(int)\n",
    "annotations = annotations.flatten(order='F')\n",
    "for i, p in enumerate(ax.patches):\n",
    "    if annotations[i] == 0:\n",
    "        continue\n",
    "    x = p.get_x()+.15\n",
    "    y = p.get_y()+p.get_height()//2-80\n",
    "    if i >= len(annotations)//2:\n",
    "        y = max(y, 350)\n",
    "        \n",
    "    ax.annotate(str(annotations[i]) + '%', (x, y))"
   ]
  },
  {
   "cell_type": "markdown",
   "id": "10d06ee8",
   "metadata": {},
   "source": [
    "It is notable that income varies greatly across different occupations.  Nearly half of those with a professional occupation make over $\\$$50,000 annually, however only 13% of service workers make over $\\$$50,000 per year."
   ]
  },
  {
   "cell_type": "markdown",
   "id": "7c38b6a4",
   "metadata": {},
   "source": [
    "The categorical `marital-status` variable will be simplified for analysis as well."
   ]
  },
  {
   "cell_type": "code",
   "execution_count": 91,
   "id": "e190da5f",
   "metadata": {},
   "outputs": [
    {
     "data": {
      "text/plain": [
       "Married-civ-spouse       14976\n",
       "Never-married            10683\n",
       "Divorced                  4443\n",
       "Separated                 1025\n",
       "Widowed                    993\n",
       "Married-spouse-absent      418\n",
       "Married-AF-spouse           23\n",
       "Name: marital-status, dtype: int64"
      ]
     },
     "execution_count": 91,
     "metadata": {},
     "output_type": "execute_result"
    }
   ],
   "source": [
    "df['marital-status'].value_counts()"
   ]
  },
  {
   "cell_type": "markdown",
   "id": "c1f3c6b6",
   "metadata": {},
   "source": [
    "The `Married-civ-spouse`, `Married-spouse-absent`, and `Married-AF-spouse` categories will be combined into a `Married` variable."
   ]
  },
  {
   "cell_type": "code",
   "execution_count": 92,
   "id": "62c4e2a7",
   "metadata": {},
   "outputs": [
    {
     "data": {
      "text/plain": [
       "Married      15417\n",
       "Single       10683\n",
       "Divorced      4443\n",
       "Separated     1025\n",
       "Widowed        993\n",
       "Name: marital-status, dtype: int64"
      ]
     },
     "execution_count": 92,
     "metadata": {},
     "output_type": "execute_result"
    }
   ],
   "source": [
    "df['marital-status'] = df['marital-status'].map({'Never-married':'Single', \\\n",
    "            'Married-civ-spouse':'Married', 'Married-spouse-absent':'Married', 'Married-AF-spouse':'Married', \\\n",
    "            'Divorced':'Divorced', 'Separated':'Separated', 'Widowed':'Widowed'})\n",
    "df['marital-status'].value_counts()"
   ]
  },
  {
   "cell_type": "code",
   "execution_count": 93,
   "id": "e409725b",
   "metadata": {},
   "outputs": [
    {
     "data": {
      "image/png": "[encoded data removed]",
      "text/plain": [
       "<Figure size 720x432 with 1 Axes>"
      ]
     },
     "metadata": {
      "needs_background": "light"
     },
     "output_type": "display_data"
    }
   ],
   "source": [
    "df_plot = df.groupby(['marital-status', 'income']).size().reset_index().pivot(columns='income', \\\n",
    "                                                            index='marital-status', values=0).fillna(0)\n",
    "ax = df_plot.plot(kind='bar', stacked=True, figsize=(10,6))\n",
    "plt.title('Income by Marital Status')\n",
    "plt.ylabel('Count')\n",
    "\n",
    "annotations = df_plot.divide(df_plot.sum(axis=1), axis='index')\n",
    "annotations = np.array(100*annotations).round().astype(int)\n",
    "annotations = annotations.flatten(order='F')\n",
    "for i, p in enumerate(ax.patches):\n",
    "    if annotations[i] == 0:\n",
    "        continue\n",
    "    x = p.get_x()+.15\n",
    "    y = p.get_y()+p.get_height()//2-80\n",
    "    if i >= len(annotations)//2:\n",
    "        y = max(y, 350)\n",
    "        \n",
    "    ax.annotate(str(annotations[i]) + '%', (x, y))"
   ]
  },
  {
   "cell_type": "markdown",
   "id": "ee441bb7",
   "metadata": {},
   "source": [
    "Almost half of married people make over $\\$$50,000 annually, however, less than 10% of the rest of the respondents do."
   ]
  },
  {
   "cell_type": "code",
   "execution_count": 94,
   "id": "31210098",
   "metadata": {
    "scrolled": false
   },
   "outputs": [
    {
     "data": {
      "image/png": "[encoded data removed]",
      "text/plain": [
       "<Figure size 720x432 with 1 Axes>"
      ]
     },
     "metadata": {
      "needs_background": "light"
     },
     "output_type": "display_data"
    },
    {
     "data": {
      "image/png": "[encoded data removed]",
      "text/plain": [
       "<Figure size 720x432 with 1 Axes>"
      ]
     },
     "metadata": {
      "needs_background": "light"
     },
     "output_type": "display_data"
    }
   ],
   "source": [
    "plt.figure(figsize=(10,6))\n",
    "sns.histplot(df['capital-gain'])\n",
    "plt.title('Histogram of Capital Gain')\n",
    "plt.yscale('log')\n",
    "\n",
    "plt.figure(figsize=(10,6))\n",
    "sns.histplot(df['capital-loss'], label='capital loss')\n",
    "plt.title('Histogram of Capital Loss')\n",
    "plt.yscale('log')"
   ]
  },
  {
   "cell_type": "code",
   "execution_count": 95,
   "id": "aa8e3268",
   "metadata": {
    "scrolled": false
   },
   "outputs": [
    {
     "name": "stdout",
     "output_type": "stream",
     "text": [
      "Proportion of zeros [capital-gain]: 91.7%\n",
      "Proportion of zeros [capital-loss]: 95.3%\n"
     ]
    }
   ],
   "source": [
    "print('Proportion of zeros [capital-gain]: %.1f%%' % (100*len(df[df['capital-gain'] == 0])/len(df)))\n",
    "print('Proportion of zeros [capital-loss]: %.1f%%' % (100*len(df[df['capital-loss'] == 0])/len(df)))"
   ]
  },
  {
   "cell_type": "markdown",
   "id": "63dc013e",
   "metadata": {},
   "source": [
    "As is clear from the above histograms (note the logarithmic scaling on the vertical axis) and computation, the `capital-gain` and `capital-loss` variables are both quite skewed, with a high proportion of zero values.  Thus, we will exclude them from the dataset."
   ]
  },
  {
   "cell_type": "code",
   "execution_count": 96,
   "id": "f05e1f8c",
   "metadata": {
    "scrolled": false
   },
   "outputs": [
    {
     "data": {
      "image/png": "[encoded data removed]",
      "text/plain": [
       "<Figure size 720x576 with 1 Axes>"
      ]
     },
     "metadata": {
      "needs_background": "light"
     },
     "output_type": "display_data"
    }
   ],
   "source": [
    "df_plot = df.groupby(['native-country', 'income']).size().reset_index().pivot(columns='income', \\\n",
    "                                                                index='native-country', values=0).fillna(0)\n",
    "ax = df_plot.plot(kind='bar', stacked=True, figsize=(10,8))\n",
    "plt.title('Income by Native Country')\n",
    "plt.ylabel('Count')\n",
    "plt.yscale('log')"
   ]
  },
  {
   "cell_type": "markdown",
   "id": "6086acf4",
   "metadata": {},
   "source": [
    "Similarly, the `native-country` variable displays high skewness as most observations are from the United States (again note the logarithmic scaling of the vertical axis on the above plot).  Hence, we will exclude this variable from our model as well."
   ]
  },
  {
   "cell_type": "code",
   "execution_count": 97,
   "id": "3a285c05",
   "metadata": {},
   "outputs": [],
   "source": [
    "df = df.drop(['capital-gain', 'capital-loss', 'native-country'], axis=1)"
   ]
  },
  {
   "cell_type": "code",
   "execution_count": 98,
   "id": "f0947b60",
   "metadata": {},
   "outputs": [
    {
     "data": {
      "image/png": "[encoded data removed]",
      "text/plain": [
       "<Figure size 720x432 with 1 Axes>"
      ]
     },
     "metadata": {
      "needs_background": "light"
     },
     "output_type": "display_data"
    }
   ],
   "source": [
    "df_plot = df.groupby(['race', 'income']).size().reset_index().pivot(columns='income', \\\n",
    "                                                                    index='race', values=0).fillna(0)\n",
    "ax = df_plot.plot(kind='bar', stacked=True, figsize=(10,6))\n",
    "plt.title('Income by Race')\n",
    "plt.ylabel('Count')\n",
    "\n",
    "annotations = df_plot.divide(df_plot.sum(axis=1), axis='index')\n",
    "annotations = np.array(100*annotations).round().astype(int)\n",
    "annotations = annotations.flatten(order='F')\n",
    "for i, p in enumerate(ax.patches):\n",
    "    if annotations[i] == 0:\n",
    "        continue\n",
    "    x = p.get_x()+.15\n",
    "    y = max(p.get_y()+p.get_height()//2-80, 120)\n",
    "    if i >= len(annotations)//2:\n",
    "        y = max(y, 1200)\n",
    "        \n",
    "    ax.annotate(str(annotations[i]) + '%', (x, y))"
   ]
  },
  {
   "cell_type": "markdown",
   "id": "05e86391",
   "metadata": {},
   "source": [
    "From the above plot, we see that the majority of respondents are white, and that white and asian-pacific islanders have the largest proportions of individuals earning more than $\\$$50,000 per year."
   ]
  },
  {
   "cell_type": "code",
   "execution_count": 99,
   "id": "b6974889",
   "metadata": {},
   "outputs": [
    {
     "data": {
      "text/plain": [
       "Text(0.5, 1.0, 'Histograms of Age by Gender')"
      ]
     },
     "execution_count": 99,
     "metadata": {},
     "output_type": "execute_result"
    },
    {
     "data": {
      "image/png": "[encoded data removed]",
      "text/plain": [
       "<Figure size 720x432 with 1 Axes>"
      ]
     },
     "metadata": {
      "needs_background": "light"
     },
     "output_type": "display_data"
    },
    {
     "data": {
      "image/png": "[encoded data removed]",
      "text/plain": [
       "<Figure size 720x432 with 1 Axes>"
      ]
     },
     "metadata": {
      "needs_background": "light"
     },
     "output_type": "display_data"
    }
   ],
   "source": [
    "# Age hist by income\n",
    "plt.figure(figsize=(10,6))\n",
    "bins = np.linspace(min(df.age) - 1, max(df.age), max(df.age) - min(df.age) + 2)\n",
    "\n",
    "plt.hist(df.age[df.income == '<=50K'], bins, alpha=0.5, label='<=50K')\n",
    "plt.hist(df.age[df.income == '>50K'], bins, alpha=0.5, label='>50K')\n",
    "plt.legend(loc='upper right', title='Income')\n",
    "plt.xlabel('Age')\n",
    "plt.ylabel('Count')\n",
    "plt.title('Histograms of Age by Income')\n",
    "\n",
    "# Age hist by gender\n",
    "plt.figure(figsize=(10,6))\n",
    "bins = np.linspace(min(df.age) - 1, max(df.age), max(df.age) - min(df.age) + 2)\n",
    "\n",
    "plt.hist(df.age[df.sex == 'Male'], bins, alpha=0.5, label='Male')\n",
    "plt.hist(df.age[df.sex == 'Female'], bins, alpha=0.5, label='Female')\n",
    "plt.legend(loc='upper right', title='Gender')\n",
    "plt.xlabel('Age')\n",
    "plt.ylabel('Count')\n",
    "plt.title('Histograms of Age by Gender')"
   ]
  },
  {
   "cell_type": "markdown",
   "id": "55d29f88",
   "metadata": {},
   "source": [
    "Inspecting the distribution of the age variable, we see that there are significantly more observations for those who make less than $\\$$50,000 annually than those who make more.  Moreover, those who make more than $50,000 annually tend to be in their mid-career.\n",
    "\n",
    "Interestingly, females are underrepresented in the dataset, which could be caused by a census bias."
   ]
  },
  {
   "cell_type": "code",
   "execution_count": 100,
   "id": "ee01570c",
   "metadata": {},
   "outputs": [
    {
     "data": {
      "text/plain": [
       "Text(0.5, 1.0, 'Distributions of Hours per Week by Income')"
      ]
     },
     "execution_count": 100,
     "metadata": {},
     "output_type": "execute_result"
    },
    {
     "data": {
      "image/png": "[encoded data removed]",
      "text/plain": [
       "<Figure size 720x432 with 1 Axes>"
      ]
     },
     "metadata": {
      "needs_background": "light"
     },
     "output_type": "display_data"
    }
   ],
   "source": [
    "plt.figure(figsize=(10,6))\n",
    "sns.boxplot(data=df, x='hours-per-week', y='income')\n",
    "\n",
    "plt.xlabel('Hours per week')\n",
    "plt.ylabel('Income')\n",
    "plt.title('Distributions of Hours per Week by Income')"
   ]
  },
  {
   "cell_type": "markdown",
   "id": "7ab02304",
   "metadata": {},
   "source": [
    "Unsuprisingly, we see that those who make more than $\\$$50,000 annually tend to work more hours per week than those who make less. Also, it is notable that the distribution of hours worked has a larger spread for those who make more than $\\$$50,000 per year than those who don't."
   ]
  },
  {
   "cell_type": "markdown",
   "id": "2896e72b",
   "metadata": {},
   "source": [
    "In order to perform logistic regression on the dataset, we need to numerically encode the categorical variables. For binary variables, such as our `sex` and `income` variables, we can simply map these to 0 and 1. If a logical order is present in the features, mapping the features to a range of consecutive integers is a common technique. This quantifies the data while maintaining the ordinal nature of the variable. This is what was previously done to create the `education-num` variable from the `education` variable.\n",
    "\n",
    "When a logical order is not present in the features, as is the case in our remaining categorical variables, a one-hot encoding is a common technique to quantify the categorical data. Here, each category is mapped to a vector containing a 1 or 0 to denote the presence or absence of a feature. For instance, our `marital-status` variable could represent 'Single' as $[0,1,0,0,0]$, where the vector entries correspond to 'Married', 'Single', 'Divorced', 'Separated', and 'Widowed' respectively. This method can cause issues for variables with large cardinality as it drastically increases the sparsity of the dataset, however it is a good way to quantify our data. This method can be easily implemented with the `pandas` method `get_dummies`."
   ]
  },
  {
   "cell_type": "code",
   "execution_count": 101,
   "id": "bf010a1f",
   "metadata": {},
   "outputs": [
    {
     "data": {
      "text/html": [
       "<div>\n",
       "<style scoped>\n",
       "    .dataframe tbody tr th:only-of-type {\n",
       "        vertical-align: middle;\n",
       "    }\n",
       "\n",
       "    .dataframe tbody tr th {\n",
       "        vertical-align: top;\n",
       "    }\n",
       "\n",
       "    .dataframe thead th {\n",
       "        text-align: right;\n",
       "    }\n",
       "</style>\n",
       "<table border=\"1\" class=\"dataframe\">\n",
       "  <thead>\n",
       "    <tr style=\"text-align: right;\">\n",
       "      <th></th>\n",
       "      <th>age</th>\n",
       "      <th>education-num</th>\n",
       "      <th>sex</th>\n",
       "      <th>hours-per-week</th>\n",
       "      <th>income</th>\n",
       "      <th>workclass_Government</th>\n",
       "      <th>workclass_Other</th>\n",
       "      <th>workclass_Private</th>\n",
       "      <th>workclass_Self-employed</th>\n",
       "      <th>marital-status_Divorced</th>\n",
       "      <th>...</th>\n",
       "      <th>occupation_Other</th>\n",
       "      <th>occupation_Professional</th>\n",
       "      <th>occupation_Sales</th>\n",
       "      <th>occupation_Service</th>\n",
       "      <th>occupation_White-collar</th>\n",
       "      <th>race_Amer-Indian-Eskimo</th>\n",
       "      <th>race_Asian-Pac-Islander</th>\n",
       "      <th>race_Black</th>\n",
       "      <th>race_Other</th>\n",
       "      <th>race_White</th>\n",
       "    </tr>\n",
       "  </thead>\n",
       "  <tbody>\n",
       "    <tr>\n",
       "      <th>0</th>\n",
       "      <td>39</td>\n",
       "      <td>13</td>\n",
       "      <td>0</td>\n",
       "      <td>40</td>\n",
       "      <td>0</td>\n",
       "      <td>1</td>\n",
       "      <td>0</td>\n",
       "      <td>0</td>\n",
       "      <td>0</td>\n",
       "      <td>0</td>\n",
       "      <td>...</td>\n",
       "      <td>0</td>\n",
       "      <td>0</td>\n",
       "      <td>0</td>\n",
       "      <td>0</td>\n",
       "      <td>1</td>\n",
       "      <td>0</td>\n",
       "      <td>0</td>\n",
       "      <td>0</td>\n",
       "      <td>0</td>\n",
       "      <td>1</td>\n",
       "    </tr>\n",
       "    <tr>\n",
       "      <th>1</th>\n",
       "      <td>50</td>\n",
       "      <td>13</td>\n",
       "      <td>0</td>\n",
       "      <td>13</td>\n",
       "      <td>0</td>\n",
       "      <td>0</td>\n",
       "      <td>0</td>\n",
       "      <td>0</td>\n",
       "      <td>1</td>\n",
       "      <td>0</td>\n",
       "      <td>...</td>\n",
       "      <td>0</td>\n",
       "      <td>0</td>\n",
       "      <td>0</td>\n",
       "      <td>0</td>\n",
       "      <td>1</td>\n",
       "      <td>0</td>\n",
       "      <td>0</td>\n",
       "      <td>0</td>\n",
       "      <td>0</td>\n",
       "      <td>1</td>\n",
       "    </tr>\n",
       "    <tr>\n",
       "      <th>2</th>\n",
       "      <td>38</td>\n",
       "      <td>9</td>\n",
       "      <td>0</td>\n",
       "      <td>40</td>\n",
       "      <td>0</td>\n",
       "      <td>0</td>\n",
       "      <td>0</td>\n",
       "      <td>1</td>\n",
       "      <td>0</td>\n",
       "      <td>1</td>\n",
       "      <td>...</td>\n",
       "      <td>0</td>\n",
       "      <td>0</td>\n",
       "      <td>0</td>\n",
       "      <td>0</td>\n",
       "      <td>0</td>\n",
       "      <td>0</td>\n",
       "      <td>0</td>\n",
       "      <td>0</td>\n",
       "      <td>0</td>\n",
       "      <td>1</td>\n",
       "    </tr>\n",
       "    <tr>\n",
       "      <th>3</th>\n",
       "      <td>53</td>\n",
       "      <td>7</td>\n",
       "      <td>0</td>\n",
       "      <td>40</td>\n",
       "      <td>0</td>\n",
       "      <td>0</td>\n",
       "      <td>0</td>\n",
       "      <td>1</td>\n",
       "      <td>0</td>\n",
       "      <td>0</td>\n",
       "      <td>...</td>\n",
       "      <td>0</td>\n",
       "      <td>0</td>\n",
       "      <td>0</td>\n",
       "      <td>0</td>\n",
       "      <td>0</td>\n",
       "      <td>0</td>\n",
       "      <td>0</td>\n",
       "      <td>1</td>\n",
       "      <td>0</td>\n",
       "      <td>0</td>\n",
       "    </tr>\n",
       "    <tr>\n",
       "      <th>4</th>\n",
       "      <td>28</td>\n",
       "      <td>13</td>\n",
       "      <td>1</td>\n",
       "      <td>40</td>\n",
       "      <td>0</td>\n",
       "      <td>0</td>\n",
       "      <td>0</td>\n",
       "      <td>1</td>\n",
       "      <td>0</td>\n",
       "      <td>0</td>\n",
       "      <td>...</td>\n",
       "      <td>0</td>\n",
       "      <td>1</td>\n",
       "      <td>0</td>\n",
       "      <td>0</td>\n",
       "      <td>0</td>\n",
       "      <td>0</td>\n",
       "      <td>0</td>\n",
       "      <td>1</td>\n",
       "      <td>0</td>\n",
       "      <td>0</td>\n",
       "    </tr>\n",
       "  </tbody>\n",
       "</table>\n",
       "<p>5 rows × 25 columns</p>\n",
       "</div>"
      ],
      "text/plain": [
       "   age  education-num  sex  hours-per-week  income  workclass_Government  \\\n",
       "0   39             13    0              40       0                     1   \n",
       "1   50             13    0              13       0                     0   \n",
       "2   38              9    0              40       0                     0   \n",
       "3   53              7    0              40       0                     0   \n",
       "4   28             13    1              40       0                     0   \n",
       "\n",
       "   workclass_Other  workclass_Private  workclass_Self-employed  \\\n",
       "0                0                  0                        0   \n",
       "1                0                  0                        1   \n",
       "2                0                  1                        0   \n",
       "3                0                  1                        0   \n",
       "4                0                  1                        0   \n",
       "\n",
       "   marital-status_Divorced  ...  occupation_Other  occupation_Professional  \\\n",
       "0                        0  ...                 0                        0   \n",
       "1                        0  ...                 0                        0   \n",
       "2                        1  ...                 0                        0   \n",
       "3                        0  ...                 0                        0   \n",
       "4                        0  ...                 0                        1   \n",
       "\n",
       "   occupation_Sales  occupation_Service  occupation_White-collar  \\\n",
       "0                 0                   0                        1   \n",
       "1                 0                   0                        1   \n",
       "2                 0                   0                        0   \n",
       "3                 0                   0                        0   \n",
       "4                 0                   0                        0   \n",
       "\n",
       "   race_Amer-Indian-Eskimo  race_Asian-Pac-Islander  race_Black  race_Other  \\\n",
       "0                        0                        0           0           0   \n",
       "1                        0                        0           0           0   \n",
       "2                        0                        0           0           0   \n",
       "3                        0                        0           1           0   \n",
       "4                        0                        0           1           0   \n",
       "\n",
       "   race_White  \n",
       "0           1  \n",
       "1           1  \n",
       "2           1  \n",
       "3           0  \n",
       "4           0  \n",
       "\n",
       "[5 rows x 25 columns]"
      ]
     },
     "execution_count": 101,
     "metadata": {},
     "output_type": "execute_result"
    }
   ],
   "source": [
    "df.sex = df.sex.map({'Male':0, 'Female':1})\n",
    "df.income = df.income.map({'<=50K':0, '>50K':1})\n",
    "df = pd.get_dummies(df, columns=['workclass', 'marital-status', 'occupation', 'race'])\n",
    "df.head()"
   ]
  },
  {
   "cell_type": "markdown",
   "id": "b92f29cc",
   "metadata": {},
   "source": [
    "We will preform the regression with the machine learning library PyTorch."
   ]
  },
  {
   "cell_type": "code",
   "execution_count": 102,
   "id": "e9c7fcc6",
   "metadata": {},
   "outputs": [],
   "source": [
    "import torch as t\n",
    "from torch import nn\n",
    "from torch.optim import SGD\n",
    "from torch.utils.data import Dataset, DataLoader, random_split"
   ]
  },
  {
   "cell_type": "markdown",
   "id": "da453140",
   "metadata": {},
   "source": [
    "The data is split into training and validation sets and the independent variables in both sets are standardized using the mean and standard deviation of the training dataset. This is best done in PyTorch by creating a class representing the data, and creating DataLoader objects to iterate over the training and validation datasets."
   ]
  },
  {
   "cell_type": "code",
   "execution_count": 103,
   "id": "cf544c84",
   "metadata": {},
   "outputs": [],
   "source": [
    "class Data(Dataset):\n",
    "    def __init__(self, df):\n",
    "        self.data = df.drop('income', axis=1).copy()\n",
    "        self.income = t.Tensor(df.income.copy()).type(t.float)\n",
    "        self.data = t.Tensor(self.data.to_numpy()).type(t.float)\n",
    "        \n",
    "    def __len__(self):\n",
    "        return self.data.shape[0]\n",
    "    \n",
    "    def __getitem__(self, i):\n",
    "        return (self.data[i], self.income[i])"
   ]
  },
  {
   "cell_type": "code",
   "execution_count": 104,
   "id": "0a39761e",
   "metadata": {},
   "outputs": [],
   "source": [
    "dataset = Data(df)\n",
    "\n",
    "# Split the data into training and validation subsets\n",
    "train_fraction = 0.75\n",
    "train_len = int(train_fraction*len(dataset))\n",
    "train, valid = random_split(dataset, (train_len, len(dataset) - train_len))\n",
    "\n",
    "# Standardize the data based on the training data mean and std\n",
    "train_mean = t.mean(train.dataset.data[train.indices], 0)\n",
    "train_std = t.std(train.dataset.data[train.indices], 0)\n",
    "train.dataset.data[train.indices] = (train.dataset.data[train.indices] - train_mean)/train_std\n",
    "valid.dataset.data[valid.indices] = (valid.dataset.data[valid.indices] - train_mean)/train_std\n",
    "\n",
    "train_loader = DataLoader(train, batch_size=len(dataset), shuffle=False)\n",
    "valid_loader = DataLoader(valid, batch_size=len(dataset), shuffle=False)"
   ]
  },
  {
   "cell_type": "markdown",
   "id": "f95074a9",
   "metadata": {},
   "source": [
    "We then define a simple class representing our model."
   ]
  },
  {
   "cell_type": "code",
   "execution_count": 105,
   "id": "86ab6ada",
   "metadata": {},
   "outputs": [],
   "source": [
    "class LinearRegression(nn.Module):\n",
    "    def __init__(self, input_size, output_size):\n",
    "        super(LinearRegression, self).__init__()\n",
    "        \n",
    "        self.linear = nn.Linear(input_size, output_size)\n",
    "    \n",
    "    def forward(self, x):\n",
    "        return self.linear(x)\n",
    "\n",
    "model = LinearRegression(df.shape[1] - 1, 1)"
   ]
  },
  {
   "cell_type": "markdown",
   "id": "3e580855",
   "metadata": {},
   "source": [
    "The goal of our model is to find parameters $m_1,...,m_n,b$ such that the target variable `income`, denoted $y_{income}$, is given by  $$y_{income} = \\sigma(m_1x_1 + ... + m_nx_n + b)$$ where the $x_i$ are our training variables (age, workclass, etc.).  Here, $\\sigma$ is known as the *sigmoid function* and is given by $$\\sigma:\\mathbb{R} \\rightarrow (0,1), x \\mapsto \\frac{1}{1+e^{-x}}$$\n",
    "\n",
    "For our loss function, we use the Binary Cross Entropy (BCE) loss. Of course, our model defined above does not include the sigmoid operation, it simply returns output of the linear operation. This is because, in PyTorch, it is more numerically stable to use the predefined loss function `torch.nn.BCEWithLogitsLoss`. This function applies the sigmoid operation and the loss calculation in one layer, but takes advantage of the [log-sum-exp trick](https://en.wikipedia.org/wiki/LogSumExp) for numerical stability.  Thus, this is favorable over consecutively applying the sigmoid function and then the BCE calculation to increae numerical stability.\n",
    "\n",
    "\n"
   ]
  },
  {
   "cell_type": "code",
   "execution_count": 106,
   "id": "643420c9",
   "metadata": {},
   "outputs": [],
   "source": [
    "lr = 0.03\n",
    "n_epochs = 440\n",
    "\n",
    "# This loss function combines a sigmoid function with a binary cross entropy loss function.\n",
    "# It is preferred to increase numerical stability.\n",
    "loss_func = nn.BCEWithLogitsLoss()\n",
    "\n",
    "optimizer = SGD(model.parameters(), lr=lr)"
   ]
  },
  {
   "cell_type": "markdown",
   "id": "e48f5add",
   "metadata": {},
   "source": [
    "We set the batch size equal to the length of the full dataset so that the entire training set is used on every parameter update.  For a simple model such as this logistic regression model, it is not necessary to split the data into batches."
   ]
  },
  {
   "cell_type": "code",
   "execution_count": 107,
   "id": "bf21144f",
   "metadata": {},
   "outputs": [
    {
     "name": "stdout",
     "output_type": "stream",
     "text": [
      "Epoch 0  Loss 0.713\n",
      "Epoch 20  Loss 0.612\n",
      "Epoch 40  Loss 0.552\n",
      "Epoch 60  Loss 0.514\n",
      "Epoch 80  Loss 0.488\n",
      "Epoch 100  Loss 0.468\n",
      "Epoch 120  Loss 0.453\n",
      "Epoch 140  Loss 0.442\n",
      "Epoch 160  Loss 0.432\n",
      "Epoch 180  Loss 0.424\n",
      "Epoch 200  Loss 0.418\n",
      "Epoch 220  Loss 0.412\n",
      "Epoch 240  Loss 0.408\n",
      "Epoch 260  Loss 0.404\n",
      "Epoch 280  Loss 0.400\n",
      "Epoch 300  Loss 0.397\n",
      "Epoch 320  Loss 0.395\n",
      "Epoch 340  Loss 0.392\n",
      "Epoch 360  Loss 0.390\n",
      "Epoch 380  Loss 0.388\n",
      "Epoch 400  Loss 0.387\n",
      "Epoch 420  Loss 0.385\n"
     ]
    }
   ],
   "source": [
    "l = []\n",
    "model.train()\n",
    "for i, epoch in enumerate(range(n_epochs)):\n",
    "    for x, label in train_loader:\n",
    "        \n",
    "        optimizer.zero_grad()\n",
    "\n",
    "        prediction = model(x)\n",
    "\n",
    "        loss = loss_func(prediction, label.unsqueeze(1))\n",
    "        l.append(loss.detach())\n",
    "\n",
    "        loss.backward()\n",
    "\n",
    "        optimizer.step()\n",
    "        \n",
    "        if i % 20 == 0:\n",
    "            print('Epoch %i' % i, ' Loss %.3f' % loss)"
   ]
  },
  {
   "cell_type": "code",
   "execution_count": 108,
   "id": "1ced6d43",
   "metadata": {},
   "outputs": [
    {
     "data": {
      "text/plain": [
       "Text(0.5, 1.0, 'Mean BCE Loss vs Training Epoch')"
      ]
     },
     "execution_count": 108,
     "metadata": {},
     "output_type": "execute_result"
    },
    {
     "data": {
      "image/png": "[encoded data removed]",
      "text/plain": [
       "<Figure size 720x432 with 1 Axes>"
      ]
     },
     "metadata": {
      "needs_background": "light"
     },
     "output_type": "display_data"
    }
   ],
   "source": [
    "plt.figure(figsize=(10,6))\n",
    "plt.plot(range(len(l)), l)\n",
    "plt.ylabel('Loss', fontsize=12)\n",
    "plt.xlabel('Epoch', fontsize=12)\n",
    "plt.title('Mean BCE Loss vs Training Epoch', fontsize=15)"
   ]
  },
  {
   "cell_type": "markdown",
   "id": "87dc1ceb",
   "metadata": {},
   "source": [
    "Now, we can test our model to see how it performs on the validation dataset. The output of the logistic regression algorithm is a probability that an individual makes more than $\\$$50,000 annually. Thus, we will use a threshold of 0.5 to determine whether an individual is predicted to make more than $50,000 or not."
   ]
  },
  {
   "cell_type": "code",
   "execution_count": 109,
   "id": "3b2baa8b",
   "metadata": {},
   "outputs": [],
   "source": [
    "model.eval()\n",
    "valid_data, valid_income = [*valid_loader][0]\n",
    "thres = 0.5\n",
    "pred_income_probabilities = nn.Sigmoid()(model(valid_data)).squeeze().detach()\n",
    "pred_income = t.where(pred_income_probabilities > thres, 1, 0)\n",
    "valid_income = valid_income.detach().numpy().astype(int)\n",
    "pred_income = pred_income.detach().numpy().astype(int)"
   ]
  },
  {
   "cell_type": "code",
   "execution_count": 110,
   "id": "d3a0ebd7",
   "metadata": {},
   "outputs": [
    {
     "name": "stdout",
     "output_type": "stream",
     "text": [
      "Accuracy on validation set: 82.64%\n"
     ]
    }
   ],
   "source": [
    "acc_valid = (valid_income == pred_income).sum()/len(valid_income)\n",
    "print('Accuracy on validation set: %.2f%%' % (100*acc_valid))"
   ]
  },
  {
   "cell_type": "markdown",
   "id": "e832a547",
   "metadata": {},
   "source": [
    "We achieve a fairly good accuracy for the model.  To check for overfitting, we can compare the above accuracy with the accuracy on the training data."
   ]
  },
  {
   "cell_type": "code",
   "execution_count": 111,
   "id": "ad819c8e",
   "metadata": {},
   "outputs": [
    {
     "name": "stdout",
     "output_type": "stream",
     "text": [
      "Accuracy on training set: 82.33%\n"
     ]
    }
   ],
   "source": [
    "# Accuracy for train data\n",
    "train_data, train_income = [*train_loader][0]\n",
    "pred_train = t.where(nn.Sigmoid()(model(train_data)).squeeze() > thres, 1, 0)\n",
    "pred_train = pred_train.detach().numpy().astype(int)\n",
    "train_income = train_income.detach().numpy().astype(int)\n",
    "\n",
    "acc_train = (pred_train == train_income).sum()/len(train_income)\n",
    "print('Accuracy on training set: %.2f%%' % (100*acc_train))"
   ]
  },
  {
   "cell_type": "markdown",
   "id": "056c278d",
   "metadata": {},
   "source": [
    "The similar accuracy on both datasets indicates the model is not overfitting the training dataset.\n",
    "\n",
    "A confusion matrix will give us more insight into how well our model is performing."
   ]
  },
  {
   "cell_type": "code",
   "execution_count": 112,
   "id": "2e8e85bf",
   "metadata": {},
   "outputs": [
    {
     "name": "stdout",
     "output_type": "stream",
     "text": [
      "Confusion matrix:\n"
     ]
    },
    {
     "data": {
      "text/html": [
       "<div>\n",
       "<style scoped>\n",
       "    .dataframe tbody tr th:only-of-type {\n",
       "        vertical-align: middle;\n",
       "    }\n",
       "\n",
       "    .dataframe tbody tr th {\n",
       "        vertical-align: top;\n",
       "    }\n",
       "\n",
       "    .dataframe thead th {\n",
       "        text-align: right;\n",
       "    }\n",
       "</style>\n",
       "<table border=\"1\" class=\"dataframe\">\n",
       "  <thead>\n",
       "    <tr style=\"text-align: right;\">\n",
       "      <th></th>\n",
       "      <th>predicted_&lt;=50k</th>\n",
       "      <th>predicted_&gt;50k</th>\n",
       "    </tr>\n",
       "  </thead>\n",
       "  <tbody>\n",
       "    <tr>\n",
       "      <th>actual_&lt;=50k</th>\n",
       "      <td>5689</td>\n",
       "      <td>492</td>\n",
       "    </tr>\n",
       "    <tr>\n",
       "      <th>actual_&gt;50k</th>\n",
       "      <td>921</td>\n",
       "      <td>1039</td>\n",
       "    </tr>\n",
       "  </tbody>\n",
       "</table>\n",
       "</div>"
      ],
      "text/plain": [
       "              predicted_<=50k  predicted_>50k\n",
       "actual_<=50k             5689             492\n",
       "actual_>50k               921            1039"
      ]
     },
     "execution_count": 112,
     "metadata": {},
     "output_type": "execute_result"
    }
   ],
   "source": [
    "cf_matrix = np.zeros((2,2))\n",
    "for real, pred in zip(valid_income, pred_income):\n",
    "    cf_matrix[real][pred] += 1\n",
    "    \n",
    "print('Confusion matrix:')\n",
    "pd.DataFrame(cf_matrix, index=['actual_<=50k', 'actual_>50k'], \\\n",
    "             columns=['predicted_<=50k', 'predicted_>50k']).astype(int)"
   ]
  },
  {
   "cell_type": "code",
   "execution_count": 113,
   "id": "ccec709d",
   "metadata": {},
   "outputs": [
    {
     "name": "stdout",
     "output_type": "stream",
     "text": [
      "Normalized confusion matrix:\n"
     ]
    },
    {
     "data": {
      "text/html": [
       "<div>\n",
       "<style scoped>\n",
       "    .dataframe tbody tr th:only-of-type {\n",
       "        vertical-align: middle;\n",
       "    }\n",
       "\n",
       "    .dataframe tbody tr th {\n",
       "        vertical-align: top;\n",
       "    }\n",
       "\n",
       "    .dataframe thead th {\n",
       "        text-align: right;\n",
       "    }\n",
       "</style>\n",
       "<table border=\"1\" class=\"dataframe\">\n",
       "  <thead>\n",
       "    <tr style=\"text-align: right;\">\n",
       "      <th></th>\n",
       "      <th>predicted_&lt;=50k</th>\n",
       "      <th>predicted_&gt;50k</th>\n",
       "    </tr>\n",
       "  </thead>\n",
       "  <tbody>\n",
       "    <tr>\n",
       "      <th>actual_&lt;=50k</th>\n",
       "      <td>0.698809</td>\n",
       "      <td>0.060435</td>\n",
       "    </tr>\n",
       "    <tr>\n",
       "      <th>actual_&gt;50k</th>\n",
       "      <td>0.113131</td>\n",
       "      <td>0.127626</td>\n",
       "    </tr>\n",
       "  </tbody>\n",
       "</table>\n",
       "</div>"
      ],
      "text/plain": [
       "              predicted_<=50k  predicted_>50k\n",
       "actual_<=50k         0.698809        0.060435\n",
       "actual_>50k          0.113131        0.127626"
      ]
     },
     "execution_count": 113,
     "metadata": {},
     "output_type": "execute_result"
    }
   ],
   "source": [
    "print('Normalized confusion matrix:')\n",
    "pd.DataFrame(cf_matrix/cf_matrix.sum(), index=['actual_<=50k', 'actual_>50k'], \\\n",
    "             columns=['predicted_<=50k', 'predicted_>50k'])"
   ]
  },
  {
   "cell_type": "markdown",
   "id": "aa9d344f",
   "metadata": {},
   "source": [
    "From the confusion matrix, we can calculate a few other metrics for evaluating out model.  First, we compute the misclassification rate, which is simply the fraction of predictions that were wrong."
   ]
  },
  {
   "cell_type": "code",
   "execution_count": 114,
   "id": "5ce474d4",
   "metadata": {},
   "outputs": [
    {
     "name": "stdout",
     "output_type": "stream",
     "text": [
      "Misclassification rate: 17.36%\n"
     ]
    }
   ],
   "source": [
    "misclass_rate = (cf_matrix[0][1]+cf_matrix[1][0])/cf_matrix.sum()\n",
    "print('Misclassification rate: %.2f%%' % (100*misclass_rate))\n"
   ]
  },
  {
   "cell_type": "markdown",
   "id": "80912262",
   "metadata": {},
   "source": [
    "We can also compute the recall, precision, and $F_1$ score.  Recall measures the proportion of actual positives that were identified correctly. That is, recall is defined as \n",
    "\n",
    "$$\\text{Recall} = \\frac{\\text{True Positives}}{\\text{True Positives}+\\text{False Negatives}}$$\n",
    "\n",
    "Precision, on the other hand, is the proportion of positive identifications that were correct. Hence, precision is given by \n",
    "\n",
    "$$\\text{Precision} = \\frac{\\text{True Positives}}{\\text{True Positives}+\\text{False Positives}}$$\n",
    "\n",
    "It is important to consider both these metrics when evaluating a classification model as it is possible to have high recall but low precision or vice versa.\n",
    "\n",
    "$F_1$ score is a single metric which combines both the precision and recall.  It is given by the harmonic mean of precision and recall:\n",
    "\n",
    "$$F_1=2\\cdot\\frac{\\text{Recall}\\cdot\\text{Precision}}{\\text{Recall}+\\text{Precision}}$$\n",
    "\n",
    "$F_1$ score is a useful metric since it is low if either precision or recall are low and allows us do sufficiently describe the effectiveness of our model in a single quantity."
   ]
  },
  {
   "cell_type": "code",
   "execution_count": 115,
   "id": "9bdf593a",
   "metadata": {},
   "outputs": [
    {
     "name": "stdout",
     "output_type": "stream",
     "text": [
      "Recall:  0.5301020408163265\n",
      "Precision:  0.6786414108425866\n",
      "F1 score:  0.5952449154969923\n"
     ]
    }
   ],
   "source": [
    "recall = cf_matrix[1][1]/cf_matrix[1].sum()\n",
    "print('Recall: ', recall)\n",
    "\n",
    "precision = cf_matrix[1][1]/cf_matrix.sum(axis=0)[1]\n",
    "print('Precision: ', precision)\n",
    "\n",
    "f1 = 2*precision*recall/(precision + recall)\n",
    "print('F1 score: ', f1)"
   ]
  },
  {
   "cell_type": "markdown",
   "id": "013ec89d",
   "metadata": {},
   "source": [
    "Our model has a greater precision than recall, and a decent $F_1$ score."
   ]
  },
  {
   "cell_type": "markdown",
   "id": "f8cf17ce",
   "metadata": {},
   "source": [
    "The ROC curve is a plot of the false positive rate on the horizontal axis versus the true positive rate on the vertical axis for thresholds varying from 0 to 1. It is particularly useful for directly comparing several models, however, for a single model, the area under the ROC curve (AUC) can be used as a summary of the model's effectiveness."
   ]
  },
  {
   "cell_type": "code",
   "execution_count": 116,
   "id": "f4779c07",
   "metadata": {},
   "outputs": [],
   "source": [
    "from sklearn.metrics import roc_curve, roc_auc_score"
   ]
  },
  {
   "cell_type": "code",
   "execution_count": 117,
   "id": "4797b5d1",
   "metadata": {},
   "outputs": [
    {
     "data": {
      "text/plain": [
       "Text(0.5, 1.0, 'ROC Curve')"
      ]
     },
     "execution_count": 117,
     "metadata": {},
     "output_type": "execute_result"
    },
    {
     "data": {
      "image/png": "[encoded data removed]",
      "text/plain": [
       "<Figure size 720x576 with 1 Axes>"
      ]
     },
     "metadata": {
      "needs_background": "light"
     },
     "output_type": "display_data"
    }
   ],
   "source": [
    "fpr, tpr, thresholds = roc_curve(valid_income, pred_income_probabilities)\n",
    "area = roc_auc_score(valid_income, pred_income_probabilities)\n",
    "plt.figure(figsize=(10,8))\n",
    "plt.plot(fpr, tpr)\n",
    "plt.xlim(0,1)\n",
    "plt.ylim(0,1)\n",
    "plt.legend(['ROC curve (area = %.2f)' % area], loc='lower right', fontsize=14)\n",
    "plt.xlabel('False Positive Rate', fontsize=14)\n",
    "plt.ylabel('True Positive Rate', fontsize=14)\n",
    "plt.title('ROC Curve', fontsize=18)"
   ]
  },
  {
   "cell_type": "markdown",
   "id": "aa343e78",
   "metadata": {},
   "source": [
    "Since the data is standardized before training, we can use the coefficients of our logistic regression model to determine the relative importance of each feature in predicting the class of a data sample, as well as if they contribute positively or negatively to the classification."
   ]
  },
  {
   "cell_type": "code",
   "execution_count": 118,
   "id": "a1916bea",
   "metadata": {},
   "outputs": [
    {
     "name": "stdout",
     "output_type": "stream",
     "text": [
      "education-num :              0.4987\n",
      "marital-status_Married :     0.4206\n",
      "marital-status_Single :     -0.4145\n",
      "hours-per-week :             0.2701\n",
      "age :                        0.2465\n",
      "sex :                       -0.2335\n",
      "marital-status_Divorced :   -0.2150\n",
      "workclass_Other :           -0.1855\n",
      "occupation_Blue-collar :    -0.1760\n",
      "occupation_Professional :    0.1741\n",
      "occupation_White-collar :    0.1611\n",
      "workclass_Private :         -0.1209\n",
      "marital-status_Separated :  -0.1023\n",
      "race_White :                 0.0963\n",
      "workclass_Government :      -0.0844\n",
      "workclass_Self-employed :   -0.0838\n",
      "marital-status_Widowed :    -0.0824\n",
      "occupation_Service :        -0.0786\n",
      "race_Other :                -0.0597\n",
      "race_Asian-Pac-Islander :    0.0367\n",
      "occupation_Sales :           0.0276\n",
      "occupation_Other :           0.0177\n",
      "race_Amer-Indian-Eskimo :   -0.0174\n",
      "race_Black :                 0.0051\n"
     ]
    }
   ],
   "source": [
    "param = [*model.parameters()][0]\n",
    "for feature, coeff in sorted(zip(df.drop(['income'], axis=1).columns, param[0]), key=lambda x: -abs(x[1])):\n",
    "    print(feature, ':', (26 - len(feature) + int(np.floor(coeff.item())))*' '  + '%.4f' % coeff.item())"
   ]
  },
  {
   "cell_type": "markdown",
   "id": "4a010c3f",
   "metadata": {},
   "source": [
    "We see that `education-num` contributes the most to the classification of a data sample, and does so in a positive way, whereas the `marital-status_Single` variable contributes strongly in a negative way."
   ]
  },
  {
   "cell_type": "code",
   "execution_count": null,
   "id": "4126eac1",
   "metadata": {},
   "outputs": [],
   "source": []
  }
 ],
 "metadata": {
  "kernelspec": {
   "display_name": "Python 3 (ipykernel)",
   "language": "python",
   "name": "python3"
  },
  "language_info": {
   "codemirror_mode": {
    "name": "ipython",
    "version": 3
   },
   "file_extension": ".py",
   "mimetype": "text/x-python",
   "name": "python",
   "nbconvert_exporter": "python",
   "pygments_lexer": "ipython3",
   "version": "3.9.1"
  }
 },
 "nbformat": 4,
 "nbformat_minor": 5
}
